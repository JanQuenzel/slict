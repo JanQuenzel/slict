{
 "cells": [
  {
   "cell_type": "code",
   "execution_count": 1,
   "metadata": {},
   "outputs": [
    {
     "name": "stdout",
     "output_type": "stream",
     "text": [
      "(1.3307017332881854, -0.013360711580116102, 3.0927414176172916)\n",
      "76.24359310815635\n",
      "-0.765512384832218\n",
      "177.201030354778\n"
     ]
    }
   ],
   "source": [
    "import numpy as np\n",
    "import myutil.myutil as util\n",
    "\n",
    "ypr = util.quat2eul(np.array([0.015090541998499, 0.786548738110009, 0.61700892793487, 0.020330788681362]))\n",
    "                    \n",
    "print(ypr)\n",
    "print(ypr[0]/np.pi*180)\n",
    "print(ypr[1]/np.pi*180)\n",
    "print(ypr[2]/np.pi*180)\n"
   ]
  }
 ],
 "metadata": {
  "kernelspec": {
   "display_name": "py3810",
   "language": "python",
   "name": "python3"
  },
  "language_info": {
   "codemirror_mode": {
    "name": "ipython",
    "version": 3
   },
   "file_extension": ".py",
   "mimetype": "text/x-python",
   "name": "python",
   "nbconvert_exporter": "python",
   "pygments_lexer": "ipython3",
   "version": "3.8.19"
  }
 },
 "nbformat": 4,
 "nbformat_minor": 2
}
